{
 "cells": [
  {
   "cell_type": "markdown",
   "metadata": {},
   "source": [
    "# RSA"
   ]
  },
  {
   "cell_type": "code",
   "execution_count": 1,
   "metadata": {},
   "outputs": [],
   "source": [
    "from Crypto.Util.number import getPrime, bytes_to_long, long_to_bytes\n",
    "from icecream import ic\n",
    "from sage.all import *"
   ]
  },
  {
   "cell_type": "markdown",
   "metadata": {},
   "source": [
    "## Overview\n",
    "### Parameters\n",
    "- `p` & `q`: prime numbers that are kept secret\n",
    "- `n`: public modulus (`n = p*q`)\n",
    "- `e`: public exponent, typically 3 or 65537\n",
    "- 'l': `l = (p-1) * (q-1)`\n",
    "- `d`: private exponent  `d = pow(e, -1, l)`\n",
    "- d_p & d_q, private exponent parts (used to speed up calculations sometimes)\n",
    "  - d_p = d_p*e = 1 (mod p-1)\n",
    "  - d_q = d_q*e = 1 (mod q-1)"
   ]
  },
  {
   "cell_type": "code",
   "execution_count": 2,
   "metadata": {},
   "outputs": [
    {
     "name": "stderr",
     "output_type": "stream",
     "text": [
      "ic| pt: 100800925607481076140175212\n",
      "ic| ct: 143060088881062105511120140810776844571\n",
      "ic| pt2: 100800925607481076140175212\n"
     ]
    },
    {
     "data": {
      "text/plain": [
       "b'Sam is cool'"
      ]
     },
     "execution_count": 2,
     "metadata": {},
     "output_type": "execute_result"
    }
   ],
   "source": [
    "# Basic encryption and decryption\n",
    "e = 3\n",
    "while True:\n",
    "    p = getPrime(64)\n",
    "    q = getPrime(64)\n",
    "    n = p*q\n",
    "\n",
    "    l = (p-1) * (q-1)\n",
    "    if gcd(e, l) != 1:\n",
    "        continue # e and l must be coprime for a unique decryption\n",
    "    d = pow(e, -1, l)\n",
    "    break\n",
    "\n",
    "pt = int.from_bytes(b'Sam is cool', 'big')\n",
    "\n",
    "# Encryption\n",
    "ct = pow(pt, e, n)\n",
    "\n",
    "# Decryption\n",
    "pt2 = int(pow(ct, d, n))\n",
    "\n",
    "ic(pt)\n",
    "ic(ct)\n",
    "ic(pt2)\n",
    "long_to_bytes(pt2)"
   ]
  },
  {
   "cell_type": "code",
   "execution_count": 4,
   "metadata": {},
   "outputs": [],
   "source": [
    "\"\"\"\n",
    "Like Håstad's and Franklin-Reiter's attacks, this attack exploits a weakness of RSA with public exponent e=3.\n",
    "Coppersmith showed that if randomized padding suggested by Håstad is used improperly, then RSA encryption is not secure.\n",
    "\n",
    "Conditions:\n",
    "e=3 and m<=n/e^2\n",
    "\"\"\"\n",
    "\n",
    "from typing import List\n",
    "from sage.all import *\n",
    "\n",
    "\n",
    "\n",
    "\n",
    "def attack(ct1: int, ct2: int):\n",
    "    # https://en.wikipedia.org/wiki/Coppersmith%27s_attack#Coppersmith%E2%80%99s_short-pad_attack\n",
    "    # https://github.com/ValarDragon/CTF-Crypto/blob/master/RSA/FranklinReiter.sage\n",
    "\n",
    "    # Inputs are modulus, known difference, ciphertext 1, ciphertext2.\n",
    "    # Ciphertext 1 corresponds to smaller of the two plaintexts. (The one without the fixed difference added to it)\n",
    "    def franklinReiter(n,e,r,c1,c2):\n",
    "        # R.<X> = Zmod(n)[]\n",
    "        R = Zmod(n)['X']; (X,) = R._first_ngens(1)\n",
    "        f1 = X^e - c1\n",
    "        f2 = (X + r)^e - c2\n",
    "        # coefficient 0 = -m, which is what we wanted!\n",
    "        return Integer(n-(compositeModulusGCD(f1,f2)).coefficients()[0])\n",
    "\n",
    "    # GCD is not implemented for rings over composite modulus in Sage\n",
    "    # so we do our own implementation. Its the exact same as standard GCD, but with\n",
    "    # the polynomials monic representation\n",
    "    def compositeModulusGCD(a, b):\n",
    "        if(b == 0):\n",
    "            return a.monic()\n",
    "        else:\n",
    "            return compositeModulusGCD(b, a % b)\n",
    "\n",
    "\n",
    "    e = 3\n",
    "\n",
    "    # P.<x,y> = PolynomialRing(ZZ)\n",
    "    P = PolynomialRing(ZZ, names=('x', 'y',)); (x, y,) = P._first_ngens(2)\n",
    "    ZmodN = Zmod(n)\n",
    "    g1 = x**e - ct1\n",
    "    g2 = (x+y)**e - ct2\n",
    "    res = g1.resultant(g2)\n",
    "    # P.<y> = PolynomialRing(ZmodN)\n",
    "    P = PolynomialRing(ZmodN, names=('y',)); (y,) = P._first_ngens(1)\n",
    "\n",
    "    # Convert Multivariate Polynomial Ring to Univariate Polynomial Ring\n",
    "    rres = 0\n",
    "    for i in range(len(res.coefficients())):\n",
    "        rres += res.coefficients()[i]*(y**(res.exponents()[i][1]))\n",
    "\n",
    "    epsilon=1/30\n",
    "    diff = rres.small_roots(epsilon=epsilon)\n",
    "    recovered_m1 = franklinReiter(n, e, diff[0], ct1, ct2)\n",
    "\n",
    "    # Message could be right shifted by up to 7 bits\n",
    "    possible_messages = []  # type: List[int]\n",
    "    for i in range(8):\n",
    "        possible_messages.append(recovered_m1 << 1)"
   ]
  }
 ],
 "metadata": {
  "celltoolbar": "Raw Cell Format",
  "kernelspec": {
   "display_name": "SageMath 9.0",
   "language": "sage",
   "name": "sagemath"
  },
  "language_info": {
   "codemirror_mode": {
    "name": "ipython",
    "version": 3
   },
   "file_extension": ".py",
   "mimetype": "text/x-python",
   "name": "python",
   "nbconvert_exporter": "python",
   "pygments_lexer": "ipython3",
   "version": "3.8.10"
  }
 },
 "nbformat": 4,
 "nbformat_minor": 4
}
