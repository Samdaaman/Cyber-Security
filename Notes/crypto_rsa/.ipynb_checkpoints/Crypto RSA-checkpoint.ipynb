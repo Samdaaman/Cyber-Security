{
 "cells": [
  {
   "cell_type": "markdown",
   "metadata": {},
   "source": [
    "# RSA"
   ]
  },
  {
   "cell_type": "code",
   "execution_count": 3,
   "metadata": {},
   "outputs": [],
   "source": [
    "from Crypto.Util.number import getPrime, bytes_to_long, long_to_bytes\n",
    "from icecream import ic\n",
    "from sage.all import *"
   ]
  },
  {
   "cell_type": "markdown",
   "metadata": {},
   "source": [
    "## Overview\n",
    "### Parameters\n",
    "- `p` & `q`: prime numbers that are kept secret\n",
    "- `n`: public modulus (`n = p*q`)\n",
    "- `e`: public exponent, typically 3 or 65537\n",
    "- 'l': `l = (p-1) * (q-1)`\n",
    "- `d`: private exponent  `d = pow(e, -1, l)`\n",
    "- d_p & d_q, private exponent parts (used to speed up calculations sometimes)\n",
    "  - d_p = d_p*e = 1 (mod p-1)\n",
    "  - d_q = d_q*e = 1 (mod q-1)"
   ]
  },
  {
   "cell_type": "code",
   "execution_count": 4,
   "metadata": {},
   "outputs": [
    {
     "name": "stderr",
     "output_type": "stream",
     "text": [
      "ic| pt: 100800925607481076140175212\n",
      "ic| ct: 102739946022099851058674425784202481732\n",
      "ic| pt2: 100800925607481076140175212\n"
     ]
    },
    {
     "data": {
      "text/plain": [
       "b'Sam is cool'"
      ]
     },
     "execution_count": 4,
     "metadata": {},
     "output_type": "execute_result"
    }
   ],
   "source": [
    "# Basic encryption and decryption\n",
    "e = 3\n",
    "while True:\n",
    "    p = getPrime(64)\n",
    "    q = getPrime(64)\n",
    "    n = p*q\n",
    "\n",
    "    l = (p-1) * (q-1)\n",
    "    if gcd(e, l) != 1:\n",
    "        continue # e and l must be coprime for a unique decryption\n",
    "    d = pow(e, -1, l)\n",
    "    break\n",
    "\n",
    "pt = int.from_bytes(b'Sam is cool', 'big')\n",
    "\n",
    "# Encryption\n",
    "ct = pow(pt, e, n)\n",
    "\n",
    "# Decryption\n",
    "pt2 = int(pow(ct, d, n))\n",
    "\n",
    "ic(pt)\n",
    "ic(ct)\n",
    "ic(pt2)\n",
    "long_to_bytes(pt2)"
   ]
  },
  {
   "cell_type": "code",
   "execution_count": null,
   "metadata": {},
   "outputs": [],
   "source": []
  }
 ],
 "metadata": {
  "celltoolbar": "Raw Cell Format",
  "kernelspec": {
   "display_name": "SageMath 9.0",
   "language": "sage",
   "name": "sagemath"
  },
  "language_info": {
   "codemirror_mode": {
    "name": "ipython",
    "version": 3
   },
   "file_extension": ".py",
   "mimetype": "text/x-python",
   "name": "python",
   "nbconvert_exporter": "python",
   "pygments_lexer": "ipython3",
   "version": "3.8.10"
  }
 },
 "nbformat": 4,
 "nbformat_minor": 4
}
